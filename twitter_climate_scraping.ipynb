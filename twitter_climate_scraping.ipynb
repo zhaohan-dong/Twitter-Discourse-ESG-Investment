{
 "cells": [
  {
   "cell_type": "code",
   "execution_count": 88,
   "id": "a1856bb4",
   "metadata": {
    "scrolled": true
   },
   "outputs": [
    {
     "name": "stdout",
     "output_type": "stream",
     "text": [
      "984581865335123968\n",
      "984581823501033472\n",
      "no data\n",
      "984581813162184704\n",
      "no data\n",
      "984581764185079808\n",
      "984581740281790464\n",
      "no data\n",
      "984581737903616000\n",
      "no data\n",
      "984581635474579456\n",
      "no data\n",
      "984581550720405504\n",
      "984581549373968384\n",
      "984581524178665472\n",
      "no data\n",
      "984581459586494464\n",
      "984581436261969920\n",
      "984581356234657792\n",
      "no data\n",
      "984581309702942720\n",
      "984581196121362432\n",
      "984581141272383488\n",
      "984581129586929664\n",
      "no data\n",
      "984581099862085632\n",
      "984581080907907072\n",
      "no data\n",
      "984581045709299712\n",
      "no data\n",
      "984581038125891584\n",
      "no data\n",
      "984580994203291648\n",
      "984580985483419648\n",
      "984580983289606144\n",
      "984580955800092672\n"
     ]
    },
    {
     "ename": "KeyboardInterrupt",
     "evalue": "",
     "output_type": "error",
     "traceback": [
      "\u001b[0;31m---------------------------------------------------------------------------\u001b[0m",
      "\u001b[0;31mKeyboardInterrupt\u001b[0m                         Traceback (most recent call last)",
      "Input \u001b[0;32mIn [88]\u001b[0m, in \u001b[0;36m<cell line: 27>\u001b[0;34m()\u001b[0m\n\u001b[1;32m     25\u001b[0m                 \u001b[38;5;28mprint\u001b[39m(\u001b[38;5;124m\"\u001b[39m\u001b[38;5;124mno data\u001b[39m\u001b[38;5;124m\"\u001b[39m)\n\u001b[1;32m     27\u001b[0m \u001b[38;5;28;01mif\u001b[39;00m \u001b[38;5;18m__name__\u001b[39m \u001b[38;5;241m==\u001b[39m \u001b[38;5;124m'\u001b[39m\u001b[38;5;124m__main__\u001b[39m\u001b[38;5;124m'\u001b[39m:\n\u001b[0;32m---> 28\u001b[0m     \u001b[43mmain\u001b[49m\u001b[43m(\u001b[49m\u001b[43m)\u001b[49m\n",
      "Input \u001b[0;32mIn [88]\u001b[0m, in \u001b[0;36mmain\u001b[0;34m()\u001b[0m\n\u001b[1;32m     21\u001b[0m \u001b[38;5;28mprint\u001b[39m(line)\n\u001b[1;32m     22\u001b[0m \u001b[38;5;28;01mtry\u001b[39;00m:\n\u001b[0;32m---> 23\u001b[0m     \u001b[43mtry_tweet_by_id_scrap\u001b[49m\u001b[43m(\u001b[49m\u001b[43mline\u001b[49m\u001b[43m)\u001b[49m\n\u001b[1;32m     24\u001b[0m \u001b[38;5;28;01mexcept\u001b[39;00m \u001b[38;5;167;01mKeyError\u001b[39;00m:\n\u001b[1;32m     25\u001b[0m     \u001b[38;5;28mprint\u001b[39m(\u001b[38;5;124m\"\u001b[39m\u001b[38;5;124mno data\u001b[39m\u001b[38;5;124m\"\u001b[39m)\n",
      "Input \u001b[0;32mIn [88]\u001b[0m, in \u001b[0;36mtry_tweet_by_id_scrap\u001b[0;34m(id)\u001b[0m\n\u001b[1;32m      8\u001b[0m output_json \u001b[38;5;241m=\u001b[39m st\u001b[38;5;241m.\u001b[39mJsonLineFileRawOutput(\u001b[38;5;124m'\u001b[39m\u001b[38;5;124moutput_raw_id.jl\u001b[39m\u001b[38;5;124m'\u001b[39m)\n\u001b[1;32m      9\u001b[0m output_print \u001b[38;5;241m=\u001b[39m st\u001b[38;5;241m.\u001b[39mPrintRawOutput()\n\u001b[1;32m     10\u001b[0m \u001b[43mst\u001b[49m\u001b[38;5;241;43m.\u001b[39;49m\u001b[43mTweetsByIdRunner\u001b[49m\u001b[43m(\u001b[49m\u001b[43mtweets_by_id_task\u001b[49m\u001b[38;5;241;43m=\u001b[39;49m\u001b[43mid_task\u001b[49m\u001b[43m,\u001b[49m\n\u001b[0;32m---> 11\u001b[0m \u001b[43m                    \u001b[49m\u001b[43mraw_data_outputs\u001b[49m\u001b[38;5;241;43m=\u001b[39;49m\u001b[43m[\u001b[49m\u001b[43moutput_json\u001b[49m\u001b[43m]\u001b[49m\u001b[43m)\u001b[49m\u001b[38;5;241;43m.\u001b[39;49m\u001b[43mrun\u001b[49m\u001b[43m(\u001b[49m\u001b[43m)\u001b[49m\n",
      "File \u001b[0;32m/Library/Frameworks/Python.framework/Versions/3.10/lib/python3.10/site-packages/stweet/tweets_by_ids_runner/tweets_by_id_runner.py:41\u001b[0m, in \u001b[0;36mTweetsByIdRunner.run\u001b[0;34m(self)\u001b[0m\n\u001b[1;32m     39\u001b[0m \u001b[38;5;124;03m\"\"\"Main search_runner method.\"\"\"\u001b[39;00m\n\u001b[1;32m     40\u001b[0m \u001b[38;5;28;01mwhile\u001b[39;00m \u001b[38;5;129;01mnot\u001b[39;00m \u001b[38;5;28mself\u001b[39m\u001b[38;5;241m.\u001b[39m_is_end_of_scrapping():\n\u001b[0;32m---> 41\u001b[0m     \u001b[38;5;28;43mself\u001b[39;49m\u001b[38;5;241;43m.\u001b[39;49m\u001b[43m_execute_next_tweets_request\u001b[49m\u001b[43m(\u001b[49m\u001b[43m)\u001b[49m\n\u001b[1;32m     42\u001b[0m \u001b[38;5;28;01mreturn\u001b[39;00m TweetsByIdResult(\u001b[38;5;28mself\u001b[39m\u001b[38;5;241m.\u001b[39mtweets_by_id_context\u001b[38;5;241m.\u001b[39mall_download_tweets_count)\n",
      "File \u001b[0;32m/Library/Frameworks/Python.framework/Versions/3.10/lib/python3.10/site-packages/stweet/tweets_by_ids_runner/tweets_by_id_runner.py:51\u001b[0m, in \u001b[0;36mTweetsByIdRunner._execute_next_tweets_request\u001b[0;34m(self)\u001b[0m\n\u001b[1;32m     50\u001b[0m \u001b[38;5;28;01mdef\u001b[39;00m \u001b[38;5;21m_execute_next_tweets_request\u001b[39m(\u001b[38;5;28mself\u001b[39m):\n\u001b[0;32m---> 51\u001b[0m     request_params \u001b[38;5;241m=\u001b[39m \u001b[38;5;28;43mself\u001b[39;49m\u001b[38;5;241;43m.\u001b[39;49m\u001b[43m_get_next_request_details\u001b[49m\u001b[43m(\u001b[49m\u001b[43m)\u001b[49m\n\u001b[1;32m     52\u001b[0m     response \u001b[38;5;241m=\u001b[39m \u001b[38;5;28mself\u001b[39m\u001b[38;5;241m.\u001b[39mweb_client\u001b[38;5;241m.\u001b[39mrun_request(request_params)\n\u001b[1;32m     53\u001b[0m     \u001b[38;5;28;01mif\u001b[39;00m response\u001b[38;5;241m.\u001b[39mis_success():\n",
      "File \u001b[0;32m/Library/Frameworks/Python.framework/Versions/3.10/lib/python3.10/site-packages/stweet/tweets_by_ids_runner/tweets_by_id_runner.py:71\u001b[0m, in \u001b[0;36mTweetsByIdRunner._get_next_request_details\u001b[0;34m(self)\u001b[0m\n\u001b[1;32m     70\u001b[0m \u001b[38;5;28;01mdef\u001b[39;00m \u001b[38;5;21m_get_next_request_details\u001b[39m(\u001b[38;5;28mself\u001b[39m) \u001b[38;5;241m-\u001b[39m\u001b[38;5;241m>\u001b[39m RequestDetails:\n\u001b[0;32m---> 71\u001b[0m     \u001b[38;5;28;01mreturn\u001b[39;00m \u001b[43mTwitterApiRequests\u001b[49m\u001b[43m(\u001b[49m\u001b[43m)\u001b[49m\u001b[38;5;241;43m.\u001b[39;49m\u001b[43mget_tweet_request_by_id\u001b[49m\u001b[43m(\u001b[49m\n\u001b[1;32m     72\u001b[0m \u001b[43m        \u001b[49m\u001b[38;5;28;43mself\u001b[39;49m\u001b[38;5;241;43m.\u001b[39;49m\u001b[43mtweets_by_ids_task\u001b[49m\u001b[38;5;241;43m.\u001b[39;49m\u001b[43mtweet_id\u001b[49m\u001b[43m,\u001b[49m\n\u001b[1;32m     73\u001b[0m \u001b[43m        \u001b[49m\u001b[38;5;28;43mself\u001b[39;49m\u001b[38;5;241;43m.\u001b[39;49m\u001b[43mtweets_by_id_context\u001b[49m\u001b[38;5;241;43m.\u001b[39;49m\u001b[43mcursor\u001b[49m\n\u001b[1;32m     74\u001b[0m \u001b[43m    \u001b[49m\u001b[43m)\u001b[49m\n",
      "File \u001b[0;32m/Library/Frameworks/Python.framework/Versions/3.10/lib/python3.10/site-packages/stweet/twitter_api/twitter_api_requests.py:121\u001b[0m, in \u001b[0;36mTwitterApiRequests.get_tweet_request_by_id\u001b[0;34m(self, tweet_id, cursor)\u001b[0m\n\u001b[1;32m    114\u001b[0m     variable_query[\u001b[38;5;124m'\u001b[39m\u001b[38;5;124mcursor\u001b[39m\u001b[38;5;124m'\u001b[39m] \u001b[38;5;241m=\u001b[39m cursor\u001b[38;5;241m.\u001b[39mvalue\n\u001b[1;32m    115\u001b[0m _graphql_token \u001b[38;5;241m=\u001b[39m \u001b[38;5;124m'\u001b[39m\u001b[38;5;124mkUnCMgMYZCR8GyRZz76IQg\u001b[39m\u001b[38;5;124m'\u001b[39m\n\u001b[1;32m    116\u001b[0m \u001b[38;5;28;01mreturn\u001b[39;00m RequestDetails(\n\u001b[1;32m    117\u001b[0m     http_method\u001b[38;5;241m=\u001b[39mHttpMethod\u001b[38;5;241m.\u001b[39mGET,\n\u001b[1;32m    118\u001b[0m     url\u001b[38;5;241m=\u001b[39m\u001b[38;5;124mf\u001b[39m\u001b[38;5;124m'\u001b[39m\u001b[38;5;124mhttps://twitter.com/i/api/graphql/\u001b[39m\u001b[38;5;132;01m{\u001b[39;00m_graphql_token\u001b[38;5;132;01m}\u001b[39;00m\u001b[38;5;124m/TweetDetail\u001b[39m\u001b[38;5;124m'\u001b[39m,\n\u001b[1;32m    119\u001b[0m     headers\u001b[38;5;241m=\u001b[39m\u001b[38;5;28mdict\u001b[39m(),\n\u001b[1;32m    120\u001b[0m     params\u001b[38;5;241m=\u001b[39m\u001b[38;5;28mdict\u001b[39m({\n\u001b[0;32m--> 121\u001b[0m         \u001b[38;5;124m'\u001b[39m\u001b[38;5;124mvariables\u001b[39m\u001b[38;5;124m'\u001b[39m: \u001b[43mjson\u001b[49m\u001b[38;5;241;43m.\u001b[39;49m\u001b[43mdumps\u001b[49m\u001b[43m(\u001b[49m\u001b[43mvariable_query\u001b[49m\u001b[43m)\u001b[49m\n\u001b[1;32m    122\u001b[0m     }),\n\u001b[1;32m    123\u001b[0m     timeout\u001b[38;5;241m=\u001b[39m\u001b[38;5;28mself\u001b[39m\u001b[38;5;241m.\u001b[39mtimeout\n\u001b[1;32m    124\u001b[0m )\n",
      "File \u001b[0;32m/Library/Frameworks/Python.framework/Versions/3.10/lib/python3.10/json/__init__.py:183\u001b[0m, in \u001b[0;36mdumps\u001b[0;34m(obj, skipkeys, ensure_ascii, check_circular, allow_nan, cls, indent, separators, default, sort_keys, **kw)\u001b[0m\n\u001b[1;32m    179\u001b[0m     \u001b[38;5;28;01mfor\u001b[39;00m chunk \u001b[38;5;129;01min\u001b[39;00m iterable:\n\u001b[1;32m    180\u001b[0m         fp\u001b[38;5;241m.\u001b[39mwrite(chunk)\n\u001b[0;32m--> 183\u001b[0m \u001b[38;5;28;01mdef\u001b[39;00m \u001b[38;5;21mdumps\u001b[39m(obj, \u001b[38;5;241m*\u001b[39m, skipkeys\u001b[38;5;241m=\u001b[39m\u001b[38;5;28;01mFalse\u001b[39;00m, ensure_ascii\u001b[38;5;241m=\u001b[39m\u001b[38;5;28;01mTrue\u001b[39;00m, check_circular\u001b[38;5;241m=\u001b[39m\u001b[38;5;28;01mTrue\u001b[39;00m,\n\u001b[1;32m    184\u001b[0m         allow_nan\u001b[38;5;241m=\u001b[39m\u001b[38;5;28;01mTrue\u001b[39;00m, \u001b[38;5;28mcls\u001b[39m\u001b[38;5;241m=\u001b[39m\u001b[38;5;28;01mNone\u001b[39;00m, indent\u001b[38;5;241m=\u001b[39m\u001b[38;5;28;01mNone\u001b[39;00m, separators\u001b[38;5;241m=\u001b[39m\u001b[38;5;28;01mNone\u001b[39;00m,\n\u001b[1;32m    185\u001b[0m         default\u001b[38;5;241m=\u001b[39m\u001b[38;5;28;01mNone\u001b[39;00m, sort_keys\u001b[38;5;241m=\u001b[39m\u001b[38;5;28;01mFalse\u001b[39;00m, \u001b[38;5;241m*\u001b[39m\u001b[38;5;241m*\u001b[39mkw):\n\u001b[1;32m    186\u001b[0m     \u001b[38;5;124;03m\"\"\"Serialize ``obj`` to a JSON formatted ``str``.\u001b[39;00m\n\u001b[1;32m    187\u001b[0m \n\u001b[1;32m    188\u001b[0m \u001b[38;5;124;03m    If ``skipkeys`` is true then ``dict`` keys that are not basic types\u001b[39;00m\n\u001b[0;32m   (...)\u001b[0m\n\u001b[1;32m    224\u001b[0m \n\u001b[1;32m    225\u001b[0m \u001b[38;5;124;03m    \"\"\"\u001b[39;00m\n\u001b[1;32m    226\u001b[0m     \u001b[38;5;66;03m# cached encoder\u001b[39;00m\n",
      "\u001b[0;31mKeyboardInterrupt\u001b[0m: "
     ]
    }
   ],
   "source": [
    "import stweet as st\n",
    "import csv\n",
    "import time\n",
    "from stweet.auth.fail_strategy.tor_ip_change_auth_fail_strategy import TorIpChangeAuthFailStrategy\n",
    "\n",
    "def try_tweet_by_id_scrap(id):\n",
    "    id_task = st.TweetsByIdTask(id)\n",
    "    output_json = st.JsonLineFileRawOutput('output_raw_id.jl')\n",
    "    output_print = st.PrintRawOutput()\n",
    "    st.TweetsByIdRunner(tweets_by_id_task=id_task,\n",
    "                        raw_data_outputs=[output_json]).run()\n",
    "\n",
    "def main():\n",
    "    with open('1_Tweet_IDs.csv', newline = '') as csvfile:\n",
    "        id_reader = csv.reader(csvfile, delimiter=',')\n",
    "        id_list = list(id_reader)\n",
    "        \n",
    "        # start from index 1 because original file has id as header\n",
    "        for line in id_list[1:1000]:\n",
    "            line = str(*line)\n",
    "            print(line)\n",
    "            try:\n",
    "                try_tweet_by_id_scrap(line)\n",
    "            except KeyError:\n",
    "                print(\"no data\")\n",
    "\n",
    "if __name__ == '__main__':\n",
    "    main()\n",
    "    "
   ]
  },
  {
   "cell_type": "code",
   "execution_count": null,
   "id": "0b3032f9",
   "metadata": {},
   "outputs": [],
   "source": []
  }
 ],
 "metadata": {
  "kernelspec": {
   "display_name": "Python 3 (ipykernel)",
   "language": "python",
   "name": "python3"
  },
  "language_info": {
   "codemirror_mode": {
    "name": "ipython",
    "version": 3
   },
   "file_extension": ".py",
   "mimetype": "text/x-python",
   "name": "python",
   "nbconvert_exporter": "python",
   "pygments_lexer": "ipython3",
   "version": "3.10.4"
  }
 },
 "nbformat": 4,
 "nbformat_minor": 5
}
